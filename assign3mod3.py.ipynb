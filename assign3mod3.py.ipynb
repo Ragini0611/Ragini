{
 "cells": [
  {
   "cell_type": "code",
   "execution_count": 1,
   "metadata": {},
   "outputs": [
    {
     "name": "stdout",
     "output_type": "stream",
     "text": [
      "input a binary number1101\n",
      "the decimal value of number is: 13\n"
     ]
    }
   ],
   "source": [
    "b = list(input(\"input a binary number\"))\n",
    "value = 0\n",
    "for i in range(len(b)):\n",
    "    digit = b.pop()\n",
    "    if digit == '1':\n",
    "        value = value +pow(2,i)\n",
    "print(\"the decimal value of number is:\",value)"
   ]
  },
  {
   "cell_type": "code",
   "execution_count": 2,
   "metadata": {},
   "outputs": [
    {
     "name": "stdout",
     "output_type": "stream",
     "text": [
      "enter the value of n4\n",
      "fibonacci series\n",
      "0112"
     ]
    }
   ],
   "source": [
    "n = int(input(\"enter the value of n\"))\n",
    "a = 0\n",
    "b = 1\n",
    "sum = 0\n",
    "count = 1\n",
    "print(\"fibonacci series\",)\n",
    "while(count <= n):\n",
    "    print(sum,end='')\n",
    "    count +=1\n",
    "    a = b\n",
    "    b = sum\n",
    "    sum = a+b"
   ]
  },
  {
   "cell_type": "code",
   "execution_count": 1,
   "metadata": {},
   "outputs": [
    {
     "name": "stdout",
     "output_type": "stream",
     "text": [
      "enter the number5\n",
      "multiplication table of 5\n",
      "5 x 1 = 5\n",
      "5 x 2 = 10\n",
      "5 x 3 = 15\n",
      "5 x 4 = 20\n",
      "5 x 5 = 25\n",
      "5 x 6 = 30\n",
      "5 x 7 = 35\n",
      "5 x 8 = 40\n",
      "5 x 9 = 45\n",
      "5 x 10 = 50\n"
     ]
    }
   ],
   "source": [
    "num = int(input(\"enter the number\"))\n",
    "print(\"multiplication table of\",num)\n",
    "for i in range(1,11):\n",
    "    print(num,'x',i,'=',num * i)"
   ]
  },
  {
   "cell_type": "code",
   "execution_count": 1,
   "metadata": {},
   "outputs": [],
   "source": [
    "def hcf(x,y):\n",
    "    if x>y:\n",
    "        smaller = y\n",
    "    else:\n",
    "        smaller = x\n",
    "        for i in range(1,smaller+1):\n",
    "            if(x %i==0) and (y%i==0):\n",
    "                hcf = i\n",
    "            return hcf\n",
    "        num1 = int(input(\"enter the number\"))\n",
    "        num2 = int(input(\"enter the number\"))\n",
    "        print(\"the hcf of\",num1,\"and\",num2,\"is\",hcf(num1,num2))\n",
    "        "
   ]
  },
  {
   "cell_type": "code",
   "execution_count": 2,
   "metadata": {},
   "outputs": [
    {
     "name": "stdout",
     "output_type": "stream",
     "text": [
      "enter the number34\n",
      "4131\n",
      "\n"
     ]
    }
   ],
   "source": [
    "word = input(\"enter the number\")\n",
    "for char in range(len(word)-1,-1,-1):\n",
    "    print(word[char],end='1')\n",
    "print('\\n')"
   ]
  },
  {
   "cell_type": "code",
   "execution_count": 3,
   "metadata": {},
   "outputs": [
    {
     "name": "stdout",
     "output_type": "stream",
     "text": [
      "number of even numbers 4\n",
      "number of odd numbers 5\n"
     ]
    }
   ],
   "source": [
    "numbers = (1,2,3,4,5,6,7,8,9)\n",
    "odd = 0\n",
    "even = 0\n",
    "for x in numbers:\n",
    "    if x%2:\n",
    "        odd +=1\n",
    "    else:\n",
    "        even+=1\n",
    "print(\"number of even numbers\",even)\n",
    "print(\"number of odd numbers\",odd)"
   ]
  },
  {
   "cell_type": "code",
   "execution_count": 1,
   "metadata": {},
   "outputs": [
    {
     "name": "stdout",
     "output_type": "stream",
     "text": [
      "01245\n",
      "\n"
     ]
    }
   ],
   "source": [
    "for x in range(6):\n",
    "    if(x == 3 or x == 6):\n",
    "        continue\n",
    "    print(x,end='')\n",
    "print(\"\\n\")"
   ]
  },
  {
   "cell_type": "code",
   "execution_count": null,
   "metadata": {},
   "outputs": [],
   "source": []
  }
 ],
 "metadata": {
  "kernelspec": {
   "display_name": "Python 3",
   "language": "python",
   "name": "python3"
  },
  "language_info": {
   "codemirror_mode": {
    "name": "ipython",
    "version": 3
   },
   "file_extension": ".py",
   "mimetype": "text/x-python",
   "name": "python",
   "nbconvert_exporter": "python",
   "pygments_lexer": "ipython3",
   "version": "3.8.3"
  }
 },
 "nbformat": 4,
 "nbformat_minor": 4
}
