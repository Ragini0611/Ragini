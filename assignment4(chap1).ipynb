{
 "cells": [
  {
   "cell_type": "code",
   "execution_count": 5,
   "metadata": {},
   "outputs": [
    {
     "name": "stdout",
     "output_type": "stream",
     "text": [
      "name = joseph\n",
      "age = 30\n",
      "salary = 40000\n",
      "working in infosys\n"
     ]
    }
   ],
   "source": [
    "def file_read(fname):\n",
    "        txt = open(fname)\n",
    "        print(txt.read())\n",
    "\n",
    "file_read('data.txt')\n"
   ]
  },
  {
   "cell_type": "code",
   "execution_count": 3,
   "metadata": {},
   "outputs": [
    {
     "name": "stdout",
     "output_type": "stream",
     "text": [
      "enter the number of lines3\n",
      "name = joseph\n",
      "\n",
      "age = 30\n",
      "\n",
      "salary = 40000\n",
      "\n"
     ]
    }
   ],
   "source": [
    "a = open(\"data.txt\")\n",
    "n = int(input(\"enter the number of lines\"))\n",
    "for i in range(n):\n",
    "    line = a.readline()\n",
    "    print(line)"
   ]
  },
  {
   "cell_type": "code",
   "execution_count": 2,
   "metadata": {},
   "outputs": [
    {
     "name": "stdout",
     "output_type": "stream",
     "text": [
      "gitam university\n",
      "bangalore\n"
     ]
    }
   ],
   "source": [
    "def file_read(fname):\n",
    "        from itertools import islice\n",
    "        with open(fname, \"w\") as myfile:\n",
    "                myfile.write(\"gitam university\\n\")\n",
    "                myfile.write(\"bangalore\")\n",
    "        txt = open(fname)\n",
    "        print(txt.read())\n",
    "file_read(\"data.txt\")"
   ]
  },
  {
   "cell_type": "code",
   "execution_count": 6,
   "metadata": {},
   "outputs": [
    {
     "name": "stdout",
     "output_type": "stream",
     "text": [
      "['name = joseph\\n', 'age = 30\\n', 'salary = 40000\\n', 'working in infosys']\n"
     ]
    }
   ],
   "source": [
    "def file_read(fname):\n",
    "        with open (fname, \"r\") as myfile:\n",
    "                data=myfile.readlines()\n",
    "                print(data)\n",
    "file_read('data.txt')"
   ]
  },
  {
   "cell_type": "code",
   "execution_count": 2,
   "metadata": {},
   "outputs": [
    {
     "name": "stdout",
     "output_type": "stream",
     "text": [
      "['name = joseph\\n', 'age = 30\\n', 'salary = 40000\\n', 'working in infosys']\n"
     ]
    }
   ],
   "source": [
    "def file_read(fname):\n",
    "        with open(fname) as f:     \n",
    "                content_list = f.readlines()\n",
    "                print(content_list)\n",
    "\n",
    "file_read('data.txt')"
   ]
  },
  {
   "cell_type": "code",
   "execution_count": 3,
   "metadata": {},
   "outputs": [
    {
     "name": "stdout",
     "output_type": "stream",
     "text": [
      "['name = joseph\\n', 'age = 30\\n', 'salary = 40000\\n', 'working in infosys']\n"
     ]
    }
   ],
   "source": [
    "def file_read(fname):\n",
    "        content_array = []\n",
    "        with open(fname) as f:\n",
    "                #Content_list is the list that contains the read lines.     \n",
    "                for line in f:\n",
    "                        content_array.append(line)\n",
    "                print(content_array)\n",
    "\n",
    "file_read('data.txt')"
   ]
  },
  {
   "cell_type": "code",
   "execution_count": 2,
   "metadata": {},
   "outputs": [
    {
     "name": "stdout",
     "output_type": "stream",
     "text": [
      "number of lines 4\n"
     ]
    }
   ],
   "source": [
    "a = open(\"data.txt\")\n",
    "count=0\n",
    "content = a.read()\n",
    "list=content.split(\"\\n\")\n",
    "for i in list:\n",
    "    if i:\n",
    "        count+=1\n",
    "print(\"number of lines\",count)\n",
    "    "
   ]
  },
  {
   "cell_type": "code",
   "execution_count": 3,
   "metadata": {},
   "outputs": [
    {
     "name": "stdout",
     "output_type": "stream",
     "text": [
      "\n",
      "The size of data.txt is : 56 Bytes\n",
      "\n"
     ]
    }
   ],
   "source": [
    "import os\n",
    "file_size = os.path.getsize(\"data.txt\")\n",
    "print(\"\\nThe size of data.txt is :\",file_size,\"Bytes\")\n",
    "print()"
   ]
  },
  {
   "cell_type": "code",
   "execution_count": 8,
   "metadata": {},
   "outputs": [
    {
     "data": {
      "text/plain": [
       "'abc.txt'"
      ]
     },
     "execution_count": 8,
     "metadata": {},
     "output_type": "execute_result"
    }
   ],
   "source": [
    "from shutil import copyfile\n",
    "copyfile('data.txt', 'abc.txt')\n"
   ]
  },
  {
   "cell_type": "code",
   "execution_count": 5,
   "metadata": {},
   "outputs": [
    {
     "name": "stdout",
     "output_type": "stream",
     "text": [
      "Sum of all elements in given list:  175\n"
     ]
    }
   ],
   "source": [
    "total = 0\n",
    "list1 = [12,34,56,73]  \n",
    "for ele in range(0, len(list1)): \n",
    "    total = total + list1[ele] \n",
    "print(\"Sum of all elements in given list: \", total) \n"
   ]
  },
  {
   "cell_type": "code",
   "execution_count": 11,
   "metadata": {},
   "outputs": [
    {
     "name": "stdout",
     "output_type": "stream",
     "text": [
      "72\n"
     ]
    }
   ],
   "source": [
    "def multiply(numbers):  \n",
    "    total = 1\n",
    "    for x in numbers:\n",
    "        total *= x  \n",
    "    return total  \n",
    "print(multiply((2,3,6,2)))\n"
   ]
  },
  {
   "cell_type": "code",
   "execution_count": 2,
   "metadata": {},
   "outputs": [
    {
     "name": "stdout",
     "output_type": "stream",
     "text": [
      "How many numbers: 5\n",
      "Enter number 3\n",
      "Enter number 4\n",
      "Enter number 5\n",
      "Enter number 7\n",
      "Enter number 8\n",
      "Maximum element in the list is : 8 \n",
      "Minimum element in the list is : 3\n"
     ]
    }
   ],
   "source": [
    "lst = []\n",
    "num = int(input('How many numbers: '))\n",
    "for n in range(num):\n",
    "    numbers = int(input('Enter number '))\n",
    "    lst.append(numbers)\n",
    "print(\"Maximum element in the list is :\", max(lst), \"\\nMinimum element in the list is :\", min(lst))"
   ]
  },
  {
   "cell_type": "code",
   "execution_count": 1,
   "metadata": {},
   "outputs": [
    {
     "name": "stdout",
     "output_type": "stream",
     "text": [
      "[2, 4, 10, 20, 5]\n"
     ]
    }
   ],
   "source": [
    "def Remove(duplicate): \n",
    "    final_list = [] \n",
    "    for num in duplicate: \n",
    "        if num not in final_list: \n",
    "            final_list.append(num) \n",
    "    return final_list \n",
    "duplicate = [2, 4, 10, 20, 5, 2, 20, 4] \n",
    "print(Remove(duplicate)) "
   ]
  },
  {
   "cell_type": "code",
   "execution_count": 4,
   "metadata": {},
   "outputs": [
    {
     "name": "stdout",
     "output_type": "stream",
     "text": [
      "List is empty\n"
     ]
    }
   ],
   "source": [
    "l = []\n",
    "if not l:\n",
    "  print(\"List is empty\")\n",
    "else:\n",
    "  print(\"list is full\")"
   ]
  },
  {
   "cell_type": "code",
   "execution_count": 7,
   "metadata": {},
   "outputs": [
    {
     "name": "stdout",
     "output_type": "stream",
     "text": [
      "original list is: [10, 22, 44, 23, 4]\n",
      "new list is: [10, 22, 44, 23, 4]\n"
     ]
    }
   ],
   "source": [
    "original_list = [10, 22, 44, 23, 4]\n",
    "new_list = list(original_list)\n",
    "print(\"original list is:\",original_list)\n",
    "print(\"new list is:\",new_list)"
   ]
  },
  {
   "cell_type": "code",
   "execution_count": 15,
   "metadata": {},
   "outputs": [
    {
     "name": "stdout",
     "output_type": "stream",
     "text": [
      "['Green', 'White', 'Black']\n"
     ]
    }
   ],
   "source": [
    "color = ['Red', 'Green', 'White', 'Black', 'Pink', 'Yellow']\n",
    "color = [x for (i,x) in enumerate(color) if i not in (0,4,5)]\n",
    "print(color)"
   ]
  },
  {
   "cell_type": "code",
   "execution_count": 25,
   "metadata": {},
   "outputs": [
    {
     "name": "stdout",
     "output_type": "stream",
     "text": [
      "[1, 3, 5]\n"
     ]
    }
   ],
   "source": [
    "num = [1,2,3,4,5,6]\n",
    "num = [x for x in num if x%2!=0]\n",
    "print(num)\n"
   ]
  },
  {
   "cell_type": "code",
   "execution_count": 26,
   "metadata": {},
   "outputs": [
    {
     "name": "stdout",
     "output_type": "stream",
     "text": [
      "['White', 'Black', 'Pink', 'Red', 'Yellow', 'Green']\n"
     ]
    }
   ],
   "source": [
    "from random import shuffle\n",
    "color = ['Red', 'Green', 'White', 'Black', 'Pink', 'Yellow']\n",
    "shuffle(color)\n",
    "print(color)\n"
   ]
  },
  {
   "cell_type": "code",
   "execution_count": 27,
   "metadata": {},
   "outputs": [
    {
     "name": "stdout",
     "output_type": "stream",
     "text": [
      "[9, 3, 5, 8, 2, 4, 6]\n"
     ]
    }
   ],
   "source": [
    "list1 = [1, 3, 5, 7, 9]\n",
    "list2=[1, 2, 4, 6, 7, 8]\n",
    "diff_list1_list2 = list(set(list1) - set(list2))\n",
    "diff_list2_list1 = list(set(list2) - set(list1))\n",
    "total_diff = diff_list1_list2 + diff_list2_list1\n",
    "print(total_diff)\n"
   ]
  },
  {
   "cell_type": "code",
   "execution_count": null,
   "metadata": {},
   "outputs": [],
   "source": []
  }
 ],
 "metadata": {
  "kernelspec": {
   "display_name": "Python 3",
   "language": "python",
   "name": "python3"
  },
  "language_info": {
   "codemirror_mode": {
    "name": "ipython",
    "version": 3
   },
   "file_extension": ".py",
   "mimetype": "text/x-python",
   "name": "python",
   "nbconvert_exporter": "python",
   "pygments_lexer": "ipython3",
   "version": "3.8.3"
  }
 },
 "nbformat": 4,
 "nbformat_minor": 4
}
