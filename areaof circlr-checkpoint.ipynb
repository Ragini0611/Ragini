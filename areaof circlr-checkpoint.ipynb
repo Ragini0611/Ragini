{
 "cells": [
  {
   "cell_type": "code",
   "execution_count": 1,
   "metadata": {},
   "outputs": [
    {
     "name": "stdout",
     "output_type": "stream",
     "text": [
      "enter the number3\n",
      "area of circle 28.259999999999998\n"
     ]
    }
   ],
   "source": [
    "r = float(input(\"enter the number\"))\n",
    "pi = 3.14\n",
    "area = pi * r * r\n",
    "print(\"area of circle\",area)"
   ]
  },
  {
   "cell_type": "code",
   "execution_count": 2,
   "metadata": {},
   "outputs": [
    {
     "name": "stdout",
     "output_type": "stream",
     "text": [
      "enter the height3\n",
      "enter the breadth4\n",
      "area of circle 6.0\n"
     ]
    }
   ],
   "source": [
    "h = float(input(\"enter the height\"))\n",
    "b = float(input(\"enter the breadth\"))\n",
    "area = h*b/2\n",
    "print(\"area of circle\",area)"
   ]
  },
  {
   "cell_type": "code",
   "execution_count": null,
   "metadata": {},
   "outputs": [],
   "source": []
  }
 ],
 "metadata": {
  "kernelspec": {
   "display_name": "Python 3",
   "language": "python",
   "name": "python3"
  },
  "language_info": {
   "codemirror_mode": {
    "name": "ipython",
    "version": 3
   },
   "file_extension": ".py",
   "mimetype": "text/x-python",
   "name": "python",
   "nbconvert_exporter": "python",
   "pygments_lexer": "ipython3",
   "version": "3.8.3"
  }
 },
 "nbformat": 4,
 "nbformat_minor": 4
}
